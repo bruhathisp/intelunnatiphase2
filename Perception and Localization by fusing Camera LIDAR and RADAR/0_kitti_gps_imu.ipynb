{
 "cells": [
  {
   "cell_type": "markdown",
   "metadata": {
    "colab_type": "text",
    "id": "view-in-github"
   },
   "source": [
    "<a href=\"https://colab.research.google.com/github/itberrios/CV_tracking/blob/main/kitti_tracker/0_kitti_gps_imu.ipynb\" target=\"_parent\"><img src=\"https://colab.research.google.com/assets/colab-badge.svg\" alt=\"Open In Colab\"/></a>"
   ]
  },
  {
   "cell_type": "markdown",
   "metadata": {
    "id": "mD2KtmxbKZrP"
   },
   "source": [
    "# **KITTI GPS/IMU**\n",
    "\n",
    "\n",
    "In this tutorial we will obtain high precision GPS/IMU data from the [KITTI](http://www.cvlibs.net/datasets/kitti/raw_data.php) dataset. The experiment used a OXTS RT3003 inertial and GPS navigation system to obtain this data. For more information a readme for the KITTI data can be found [here](https://github.com/yanii/kitti-pcl/blob/master/KITTI_README.TXT), and a paper that details the data collection and coordinate systems can be found [here](http://www.cvlibs.net/publications/Geiger2013IJRR.pdf)\n",
    "\n",
    "This tutorial will provide the framework for future tutorials that will involve tracking objects in the real world as opposed to pixel space.\n",
    "\n",
    "The first thing to do is to get the data"
   ]
  },
  {
   "cell_type": "code",
   "execution_count": 2,
   "metadata": {
    "colab": {
     "base_uri": "https://localhost:8080/"
    },
    "id": "J9UhkzgDL5hU",
    "outputId": "53740f80-5255-423e-ae22-902b8f42800d"
   },
   "outputs": [
    {
     "name": "stdout",
     "output_type": "stream",
     "text": [
      "--2022-09-09 12:18:15--  https://s3.eu-central-1.amazonaws.com/avg-kitti/raw_data/2011_10_03_drive_0047/2011_10_03_drive_0047_sync.zip\n",
      "Resolving s3.eu-central-1.amazonaws.com (s3.eu-central-1.amazonaws.com)... 52.219.169.133\n",
      "Connecting to s3.eu-central-1.amazonaws.com (s3.eu-central-1.amazonaws.com)|52.219.169.133|:443... connected.\n",
      "HTTP request sent, awaiting response... 200 OK\n",
      "Length: 3103291675 (2.9G) [application/zip]\n",
      "Saving to: ‘2011_10_03_drive_0047_sync.zip’\n",
      "\n",
      "2011_10_03_drive_00 100%[===================>]   2.89G  33.2MB/s    in 96s     \n",
      "\n",
      "2022-09-09 12:19:50 (31.0 MB/s) - ‘2011_10_03_drive_0047_sync.zip’ saved [3103291675/3103291675]\n",
      "\n"
     ]
    }
   ],
   "source": [
    "!wget https://s3.eu-central-1.amazonaws.com/avg-kitti/raw_data/2011_10_03_drive_0047/2011_10_03_drive_0047_sync.zip"
   ]
  },
  {
   "cell_type": "code",
   "execution_count": 3,
   "metadata": {
    "colab": {
     "base_uri": "https://localhost:8080/"
    },
    "id": "lcPhwrwsL_4b",
    "outputId": "ad72a2bc-dba1-493e-89e1-bf193a3c4e4b"
   },
   "outputs": [
    {
     "name": "stdout",
     "output_type": "stream",
     "text": [
      "--2022-09-09 12:19:51--  https://s3.eu-central-1.amazonaws.com/avg-kitti/raw_data/2011_10_03_calib.zip\n",
      "Resolving s3.eu-central-1.amazonaws.com (s3.eu-central-1.amazonaws.com)... 52.219.47.75\n",
      "Connecting to s3.eu-central-1.amazonaws.com (s3.eu-central-1.amazonaws.com)|52.219.47.75|:443... connected.\n",
      "HTTP request sent, awaiting response... 200 OK\n",
      "Length: 4075 (4.0K) [application/zip]\n",
      "Saving to: ‘2011_10_03_calib.zip’\n",
      "\n",
      "2011_10_03_calib.zi 100%[===================>]   3.98K  --.-KB/s    in 0s      \n",
      "\n",
      "2022-09-09 12:19:51 (162 MB/s) - ‘2011_10_03_calib.zip’ saved [4075/4075]\n",
      "\n"
     ]
    }
   ],
   "source": [
    "!wget https://s3.eu-central-1.amazonaws.com/avg-kitti/raw_data/2011_10_03_calib.zip"
   ]
  },
  {
   "cell_type": "code",
   "execution_count": 4,
   "metadata": {
    "id": "pfb1H15WLtaI"
   },
   "outputs": [],
   "source": [
    "!jar xf 2011_10_03_drive_0047_sync.zip\n",
    "!jar xf 2011_10_03_calib.zip"
   ]
  },
  {
   "cell_type": "markdown",
   "metadata": {
    "id": "pge3G4bKMyTM"
   },
   "source": [
    "The GPS/IMU data is located in the oxts folder, we can explore the outputs and even plot the path of the vehicle during the video."
   ]
  },
  {
   "cell_type": "code",
   "execution_count": 7,
   "metadata": {
    "id": "Q8GfPhbNMFYT"
   },
   "outputs": [],
   "source": [
    "import os\n",
    "from glob import glob\n",
    "import numpy as np\n",
    "import pandas as pd\n",
    "import matplotlib.pyplot as plt\n",
    "\n",
    "%matplotlib inline\n",
    "plt.rcParams[\"figure.figsize\"] = (20, 10)"
   ]
  },
  {
   "cell_type": "markdown",
   "metadata": {
    "id": "WgStRNA7OANs"
   },
   "source": [
    "Let's view the headers for the GPS/IMU data"
   ]
  },
  {
   "cell_type": "code",
   "execution_count": 56,
   "metadata": {
    "colab": {
     "base_uri": "https://localhost:8080/",
     "height": 754
    },
    "id": "3_CHmPBeOLQy",
    "outputId": "28c24830-b6b2-4831-a71d-ddb02ad38da5"
   },
   "outputs": [
    {
     "data": {
      "text/html": [
       "\n",
       "  <div id=\"df-b34a5e50-8ea6-46c4-bdf5-30c66e1967c7\">\n",
       "    <div class=\"colab-df-container\">\n",
       "      <div>\n",
       "<style scoped>\n",
       "    .dataframe tbody tr th:only-of-type {\n",
       "        vertical-align: middle;\n",
       "    }\n",
       "\n",
       "    .dataframe tbody tr th {\n",
       "        vertical-align: top;\n",
       "    }\n",
       "\n",
       "    .dataframe thead th {\n",
       "        text-align: right;\n",
       "    }\n",
       "</style>\n",
       "<table border=\"1\" class=\"dataframe\">\n",
       "  <thead>\n",
       "    <tr style=\"text-align: right;\">\n",
       "      <th></th>\n",
       "      <th>0</th>\n",
       "    </tr>\n",
       "  </thead>\n",
       "  <tbody>\n",
       "    <tr>\n",
       "      <th>0</th>\n",
       "      <td>lat:   latitude of the oxts-unit (deg)</td>\n",
       "    </tr>\n",
       "    <tr>\n",
       "      <th>1</th>\n",
       "      <td>lon:   longitude of the oxts-unit (deg)</td>\n",
       "    </tr>\n",
       "    <tr>\n",
       "      <th>2</th>\n",
       "      <td>alt:   altitude of the oxts-unit (m)</td>\n",
       "    </tr>\n",
       "    <tr>\n",
       "      <th>3</th>\n",
       "      <td>roll:  roll angle (rad),    0 = level, positiv...</td>\n",
       "    </tr>\n",
       "    <tr>\n",
       "      <th>4</th>\n",
       "      <td>pitch: pitch angle (rad),   0 = level, positiv...</td>\n",
       "    </tr>\n",
       "    <tr>\n",
       "      <th>5</th>\n",
       "      <td>yaw:   heading (rad),       0 = east,  positiv...</td>\n",
       "    </tr>\n",
       "    <tr>\n",
       "      <th>6</th>\n",
       "      <td>vn:    velocity towards north (m/s)</td>\n",
       "    </tr>\n",
       "    <tr>\n",
       "      <th>7</th>\n",
       "      <td>ve:    velocity towards east (m/s)</td>\n",
       "    </tr>\n",
       "    <tr>\n",
       "      <th>8</th>\n",
       "      <td>vf:    forward velocity, i.e. parallel to eart...</td>\n",
       "    </tr>\n",
       "    <tr>\n",
       "      <th>9</th>\n",
       "      <td>vl:    leftward velocity, i.e. parallel to ear...</td>\n",
       "    </tr>\n",
       "    <tr>\n",
       "      <th>10</th>\n",
       "      <td>vu:    upward velocity, i.e. perpendicular to ...</td>\n",
       "    </tr>\n",
       "    <tr>\n",
       "      <th>11</th>\n",
       "      <td>ax:    acceleration in x, i.e. in direction of...</td>\n",
       "    </tr>\n",
       "    <tr>\n",
       "      <th>12</th>\n",
       "      <td>ay:    acceleration in y, i.e. in direction of...</td>\n",
       "    </tr>\n",
       "    <tr>\n",
       "      <th>13</th>\n",
       "      <td>ay:    acceleration in z, i.e. in direction of...</td>\n",
       "    </tr>\n",
       "    <tr>\n",
       "      <th>14</th>\n",
       "      <td>af:    forward acceleration (m/s^2)</td>\n",
       "    </tr>\n",
       "    <tr>\n",
       "      <th>15</th>\n",
       "      <td>al:    leftward acceleration (m/s^2)</td>\n",
       "    </tr>\n",
       "    <tr>\n",
       "      <th>16</th>\n",
       "      <td>au:    upward acceleration (m/s^2)</td>\n",
       "    </tr>\n",
       "    <tr>\n",
       "      <th>17</th>\n",
       "      <td>wx:    angular rate around x (rad/s)</td>\n",
       "    </tr>\n",
       "    <tr>\n",
       "      <th>18</th>\n",
       "      <td>wy:    angular rate around y (rad/s)</td>\n",
       "    </tr>\n",
       "    <tr>\n",
       "      <th>19</th>\n",
       "      <td>wz:    angular rate around z (rad/s)</td>\n",
       "    </tr>\n",
       "    <tr>\n",
       "      <th>20</th>\n",
       "      <td>wf:    angular rate around forward axis (rad/s)</td>\n",
       "    </tr>\n",
       "    <tr>\n",
       "      <th>21</th>\n",
       "      <td>wl:    angular rate around leftward axis (rad/s)</td>\n",
       "    </tr>\n",
       "    <tr>\n",
       "      <th>22</th>\n",
       "      <td>wu:    angular rate around upward axis (rad/s)</td>\n",
       "    </tr>\n",
       "    <tr>\n",
       "      <th>23</th>\n",
       "      <td>pos_accuracy:  velocity accuracy (north/east i...</td>\n",
       "    </tr>\n",
       "    <tr>\n",
       "      <th>24</th>\n",
       "      <td>vel_accuracy:  velocity accuracy (north/east i...</td>\n",
       "    </tr>\n",
       "    <tr>\n",
       "      <th>25</th>\n",
       "      <td>navstat:       navigation status (see navstat_...</td>\n",
       "    </tr>\n",
       "    <tr>\n",
       "      <th>26</th>\n",
       "      <td>numsats:       number of satellites tracked by...</td>\n",
       "    </tr>\n",
       "    <tr>\n",
       "      <th>27</th>\n",
       "      <td>posmode:       position mode of primary GPS re...</td>\n",
       "    </tr>\n",
       "    <tr>\n",
       "      <th>28</th>\n",
       "      <td>velmode:       velocity mode of primary GPS re...</td>\n",
       "    </tr>\n",
       "    <tr>\n",
       "      <th>29</th>\n",
       "      <td>orimode:       orientation mode of primary GPS...</td>\n",
       "    </tr>\n",
       "  </tbody>\n",
       "</table>\n",
       "</div>\n",
       "      <button class=\"colab-df-convert\" onclick=\"convertToInteractive('df-b34a5e50-8ea6-46c4-bdf5-30c66e1967c7')\"\n",
       "              title=\"Convert this dataframe to an interactive table.\"\n",
       "              style=\"display:none;\">\n",
       "        \n",
       "  <svg xmlns=\"http://www.w3.org/2000/svg\" height=\"24px\"viewBox=\"0 0 24 24\"\n",
       "       width=\"24px\">\n",
       "    <path d=\"M0 0h24v24H0V0z\" fill=\"none\"/>\n",
       "    <path d=\"M18.56 5.44l.94 2.06.94-2.06 2.06-.94-2.06-.94-.94-2.06-.94 2.06-2.06.94zm-11 1L8.5 8.5l.94-2.06 2.06-.94-2.06-.94L8.5 2.5l-.94 2.06-2.06.94zm10 10l.94 2.06.94-2.06 2.06-.94-2.06-.94-.94-2.06-.94 2.06-2.06.94z\"/><path d=\"M17.41 7.96l-1.37-1.37c-.4-.4-.92-.59-1.43-.59-.52 0-1.04.2-1.43.59L10.3 9.45l-7.72 7.72c-.78.78-.78 2.05 0 2.83L4 21.41c.39.39.9.59 1.41.59.51 0 1.02-.2 1.41-.59l7.78-7.78 2.81-2.81c.8-.78.8-2.07 0-2.86zM5.41 20L4 18.59l7.72-7.72 1.47 1.35L5.41 20z\"/>\n",
       "  </svg>\n",
       "      </button>\n",
       "      \n",
       "  <style>\n",
       "    .colab-df-container {\n",
       "      display:flex;\n",
       "      flex-wrap:wrap;\n",
       "      gap: 12px;\n",
       "    }\n",
       "\n",
       "    .colab-df-convert {\n",
       "      background-color: #E8F0FE;\n",
       "      border: none;\n",
       "      border-radius: 50%;\n",
       "      cursor: pointer;\n",
       "      display: none;\n",
       "      fill: #1967D2;\n",
       "      height: 32px;\n",
       "      padding: 0 0 0 0;\n",
       "      width: 32px;\n",
       "    }\n",
       "\n",
       "    .colab-df-convert:hover {\n",
       "      background-color: #E2EBFA;\n",
       "      box-shadow: 0px 1px 2px rgba(60, 64, 67, 0.3), 0px 1px 3px 1px rgba(60, 64, 67, 0.15);\n",
       "      fill: #174EA6;\n",
       "    }\n",
       "\n",
       "    [theme=dark] .colab-df-convert {\n",
       "      background-color: #3B4455;\n",
       "      fill: #D2E3FC;\n",
       "    }\n",
       "\n",
       "    [theme=dark] .colab-df-convert:hover {\n",
       "      background-color: #434B5C;\n",
       "      box-shadow: 0px 1px 3px 1px rgba(0, 0, 0, 0.15);\n",
       "      filter: drop-shadow(0px 1px 2px rgba(0, 0, 0, 0.3));\n",
       "      fill: #FFFFFF;\n",
       "    }\n",
       "  </style>\n",
       "\n",
       "      <script>\n",
       "        const buttonEl =\n",
       "          document.querySelector('#df-b34a5e50-8ea6-46c4-bdf5-30c66e1967c7 button.colab-df-convert');\n",
       "        buttonEl.style.display =\n",
       "          google.colab.kernel.accessAllowed ? 'block' : 'none';\n",
       "\n",
       "        async function convertToInteractive(key) {\n",
       "          const element = document.querySelector('#df-b34a5e50-8ea6-46c4-bdf5-30c66e1967c7');\n",
       "          const dataTable =\n",
       "            await google.colab.kernel.invokeFunction('convertToInteractive',\n",
       "                                                     [key], {});\n",
       "          if (!dataTable) return;\n",
       "\n",
       "          const docLinkHtml = 'Like what you see? Visit the ' +\n",
       "            '<a target=\"_blank\" href=https://colab.research.google.com/notebooks/data_table.ipynb>data table notebook</a>'\n",
       "            + ' to learn more about interactive tables.';\n",
       "          element.innerHTML = '';\n",
       "          dataTable['output_type'] = 'display_data';\n",
       "          await google.colab.output.renderOutput(dataTable, element);\n",
       "          const docLink = document.createElement('div');\n",
       "          docLink.innerHTML = docLinkHtml;\n",
       "          element.appendChild(docLink);\n",
       "        }\n",
       "      </script>\n",
       "    </div>\n",
       "  </div>\n",
       "  "
      ],
      "text/plain": [
       "                                                    0\n",
       "0              lat:   latitude of the oxts-unit (deg)\n",
       "1             lon:   longitude of the oxts-unit (deg)\n",
       "2                alt:   altitude of the oxts-unit (m)\n",
       "3   roll:  roll angle (rad),    0 = level, positiv...\n",
       "4   pitch: pitch angle (rad),   0 = level, positiv...\n",
       "5   yaw:   heading (rad),       0 = east,  positiv...\n",
       "6                 vn:    velocity towards north (m/s)\n",
       "7                  ve:    velocity towards east (m/s)\n",
       "8   vf:    forward velocity, i.e. parallel to eart...\n",
       "9   vl:    leftward velocity, i.e. parallel to ear...\n",
       "10  vu:    upward velocity, i.e. perpendicular to ...\n",
       "11  ax:    acceleration in x, i.e. in direction of...\n",
       "12  ay:    acceleration in y, i.e. in direction of...\n",
       "13  ay:    acceleration in z, i.e. in direction of...\n",
       "14                af:    forward acceleration (m/s^2)\n",
       "15               al:    leftward acceleration (m/s^2)\n",
       "16                 au:    upward acceleration (m/s^2)\n",
       "17               wx:    angular rate around x (rad/s)\n",
       "18               wy:    angular rate around y (rad/s)\n",
       "19               wz:    angular rate around z (rad/s)\n",
       "20    wf:    angular rate around forward axis (rad/s)\n",
       "21   wl:    angular rate around leftward axis (rad/s)\n",
       "22     wu:    angular rate around upward axis (rad/s)\n",
       "23  pos_accuracy:  velocity accuracy (north/east i...\n",
       "24  vel_accuracy:  velocity accuracy (north/east i...\n",
       "25  navstat:       navigation status (see navstat_...\n",
       "26  numsats:       number of satellites tracked by...\n",
       "27  posmode:       position mode of primary GPS re...\n",
       "28  velmode:       velocity mode of primary GPS re...\n",
       "29  orimode:       orientation mode of primary GPS..."
      ]
     },
     "execution_count": 56,
     "metadata": {},
     "output_type": "execute_result"
    }
   ],
   "source": [
    "DATA_PATH = '2011_10_03/2011_10_03_drive_0047_sync'\n",
    "oxts_header = pd.read_csv(\n",
    "    glob(os.path.join(DATA_PATH, r'**/*dataformat.txt'))[0], \n",
    "    header=None,\n",
    "    sep='\\t')\n",
    "\n",
    "oxts_header"
   ]
  },
  {
   "cell_type": "markdown",
   "metadata": {
    "id": "odQVOtfsQFLM"
   },
   "source": [
    "We see that the we get two main frames of reference a global frame and alocal frame that have different represtnations of the same measurement. For this tutorial we will only consider position and linear velocity.\n",
    "\n",
    "- Global \n",
    "  - Position in Latitude, Longitude, and Altitude\n",
    "  - Velocity in North, East, and Up\n",
    "\n",
    "- Local\n",
    "  - Velocity in Left, Forward, and Up\n",
    "\n",
    "Now that we know which datapoints we need, let's read in all the oxt files! We will need both time stamps and the oxts data"
   ]
  },
  {
   "cell_type": "code",
   "execution_count": 73,
   "metadata": {
    "id": "TcXqp1j5WxkA"
   },
   "outputs": [],
   "source": [
    "LAT = 0\n",
    "LON = 1\n",
    "VEL_N = 6\n",
    "VEL_E = 7\n",
    "VEL_F = 8\n",
    "VEL_L = 9"
   ]
  },
  {
   "cell_type": "code",
   "execution_count": 96,
   "metadata": {
    "colab": {
     "base_uri": "https://localhost:8080/",
     "height": 424
    },
    "id": "8vPP3xpnPv9Z",
    "outputId": "15b0bec9-dbe4-4281-8639-d686181dcff3"
   },
   "outputs": [
    {
     "data": {
      "text/html": [
       "\n",
       "  <div id=\"df-1eedaf23-a995-4afb-b90e-918780e9269f\">\n",
       "    <div class=\"colab-df-container\">\n",
       "      <div>\n",
       "<style scoped>\n",
       "    .dataframe tbody tr th:only-of-type {\n",
       "        vertical-align: middle;\n",
       "    }\n",
       "\n",
       "    .dataframe tbody tr th {\n",
       "        vertical-align: top;\n",
       "    }\n",
       "\n",
       "    .dataframe thead th {\n",
       "        text-align: right;\n",
       "    }\n",
       "</style>\n",
       "<table border=\"1\" class=\"dataframe\">\n",
       "  <thead>\n",
       "    <tr style=\"text-align: right;\">\n",
       "      <th></th>\n",
       "      <th>0</th>\n",
       "    </tr>\n",
       "  </thead>\n",
       "  <tbody>\n",
       "    <tr>\n",
       "      <th>0</th>\n",
       "      <td>2011-10-03 14:57:27.036448963</td>\n",
       "    </tr>\n",
       "    <tr>\n",
       "      <th>1</th>\n",
       "      <td>2011-10-03 14:57:27.146615260</td>\n",
       "    </tr>\n",
       "    <tr>\n",
       "      <th>2</th>\n",
       "      <td>2011-10-03 14:57:27.246339073</td>\n",
       "    </tr>\n",
       "    <tr>\n",
       "      <th>3</th>\n",
       "      <td>2011-10-03 14:57:27.346351297</td>\n",
       "    </tr>\n",
       "    <tr>\n",
       "      <th>4</th>\n",
       "      <td>2011-10-03 14:57:27.456352889</td>\n",
       "    </tr>\n",
       "    <tr>\n",
       "      <th>...</th>\n",
       "      <td>...</td>\n",
       "    </tr>\n",
       "    <tr>\n",
       "      <th>832</th>\n",
       "      <td>2011-10-03 14:58:53.256599714</td>\n",
       "    </tr>\n",
       "    <tr>\n",
       "      <th>833</th>\n",
       "      <td>2011-10-03 14:58:53.356553061</td>\n",
       "    </tr>\n",
       "    <tr>\n",
       "      <th>834</th>\n",
       "      <td>2011-10-03 14:58:53.466548861</td>\n",
       "    </tr>\n",
       "    <tr>\n",
       "      <th>835</th>\n",
       "      <td>2011-10-03 14:58:53.566558102</td>\n",
       "    </tr>\n",
       "    <tr>\n",
       "      <th>836</th>\n",
       "      <td>2011-10-03 14:58:53.666753421</td>\n",
       "    </tr>\n",
       "  </tbody>\n",
       "</table>\n",
       "<p>837 rows × 1 columns</p>\n",
       "</div>\n",
       "      <button class=\"colab-df-convert\" onclick=\"convertToInteractive('df-1eedaf23-a995-4afb-b90e-918780e9269f')\"\n",
       "              title=\"Convert this dataframe to an interactive table.\"\n",
       "              style=\"display:none;\">\n",
       "        \n",
       "  <svg xmlns=\"http://www.w3.org/2000/svg\" height=\"24px\"viewBox=\"0 0 24 24\"\n",
       "       width=\"24px\">\n",
       "    <path d=\"M0 0h24v24H0V0z\" fill=\"none\"/>\n",
       "    <path d=\"M18.56 5.44l.94 2.06.94-2.06 2.06-.94-2.06-.94-.94-2.06-.94 2.06-2.06.94zm-11 1L8.5 8.5l.94-2.06 2.06-.94-2.06-.94L8.5 2.5l-.94 2.06-2.06.94zm10 10l.94 2.06.94-2.06 2.06-.94-2.06-.94-.94-2.06-.94 2.06-2.06.94z\"/><path d=\"M17.41 7.96l-1.37-1.37c-.4-.4-.92-.59-1.43-.59-.52 0-1.04.2-1.43.59L10.3 9.45l-7.72 7.72c-.78.78-.78 2.05 0 2.83L4 21.41c.39.39.9.59 1.41.59.51 0 1.02-.2 1.41-.59l7.78-7.78 2.81-2.81c.8-.78.8-2.07 0-2.86zM5.41 20L4 18.59l7.72-7.72 1.47 1.35L5.41 20z\"/>\n",
       "  </svg>\n",
       "      </button>\n",
       "      \n",
       "  <style>\n",
       "    .colab-df-container {\n",
       "      display:flex;\n",
       "      flex-wrap:wrap;\n",
       "      gap: 12px;\n",
       "    }\n",
       "\n",
       "    .colab-df-convert {\n",
       "      background-color: #E8F0FE;\n",
       "      border: none;\n",
       "      border-radius: 50%;\n",
       "      cursor: pointer;\n",
       "      display: none;\n",
       "      fill: #1967D2;\n",
       "      height: 32px;\n",
       "      padding: 0 0 0 0;\n",
       "      width: 32px;\n",
       "    }\n",
       "\n",
       "    .colab-df-convert:hover {\n",
       "      background-color: #E2EBFA;\n",
       "      box-shadow: 0px 1px 2px rgba(60, 64, 67, 0.3), 0px 1px 3px 1px rgba(60, 64, 67, 0.15);\n",
       "      fill: #174EA6;\n",
       "    }\n",
       "\n",
       "    [theme=dark] .colab-df-convert {\n",
       "      background-color: #3B4455;\n",
       "      fill: #D2E3FC;\n",
       "    }\n",
       "\n",
       "    [theme=dark] .colab-df-convert:hover {\n",
       "      background-color: #434B5C;\n",
       "      box-shadow: 0px 1px 3px 1px rgba(0, 0, 0, 0.15);\n",
       "      filter: drop-shadow(0px 1px 2px rgba(0, 0, 0, 0.3));\n",
       "      fill: #FFFFFF;\n",
       "    }\n",
       "  </style>\n",
       "\n",
       "      <script>\n",
       "        const buttonEl =\n",
       "          document.querySelector('#df-1eedaf23-a995-4afb-b90e-918780e9269f button.colab-df-convert');\n",
       "        buttonEl.style.display =\n",
       "          google.colab.kernel.accessAllowed ? 'block' : 'none';\n",
       "\n",
       "        async function convertToInteractive(key) {\n",
       "          const element = document.querySelector('#df-1eedaf23-a995-4afb-b90e-918780e9269f');\n",
       "          const dataTable =\n",
       "            await google.colab.kernel.invokeFunction('convertToInteractive',\n",
       "                                                     [key], {});\n",
       "          if (!dataTable) return;\n",
       "\n",
       "          const docLinkHtml = 'Like what you see? Visit the ' +\n",
       "            '<a target=\"_blank\" href=https://colab.research.google.com/notebooks/data_table.ipynb>data table notebook</a>'\n",
       "            + ' to learn more about interactive tables.';\n",
       "          element.innerHTML = '';\n",
       "          dataTable['output_type'] = 'display_data';\n",
       "          await google.colab.output.renderOutput(dataTable, element);\n",
       "          const docLink = document.createElement('div');\n",
       "          docLink.innerHTML = docLinkHtml;\n",
       "          element.appendChild(docLink);\n",
       "        }\n",
       "      </script>\n",
       "    </div>\n",
       "  </div>\n",
       "  "
      ],
      "text/plain": [
       "                                 0\n",
       "0    2011-10-03 14:57:27.036448963\n",
       "1    2011-10-03 14:57:27.146615260\n",
       "2    2011-10-03 14:57:27.246339073\n",
       "3    2011-10-03 14:57:27.346351297\n",
       "4    2011-10-03 14:57:27.456352889\n",
       "..                             ...\n",
       "832  2011-10-03 14:58:53.256599714\n",
       "833  2011-10-03 14:58:53.356553061\n",
       "834  2011-10-03 14:58:53.466548861\n",
       "835  2011-10-03 14:58:53.566558102\n",
       "836  2011-10-03 14:58:53.666753421\n",
       "\n",
       "[837 rows x 1 columns]"
      ]
     },
     "execution_count": 96,
     "metadata": {},
     "output_type": "execute_result"
    }
   ],
   "source": [
    "oxts_timestamps = pd.read_csv(\n",
    "    glob(os.path.join(DATA_PATH, r'oxts**/*timestamps.txt'))[0], \n",
    "    header=None\n",
    "    )\n",
    "\n",
    "oxts_timestamps"
   ]
  },
  {
   "cell_type": "code",
   "execution_count": null,
   "metadata": {
    "id": "uFiZAcWZXmWd"
   },
   "outputs": [],
   "source": [
    "# remove date from timestamps\n",
    "# oxts_timestamps = oxts_timestamps[0].apply(lambda x: x.split(' ')[1])"
   ]
  },
  {
   "cell_type": "code",
   "execution_count": 47,
   "metadata": {
    "id": "je41oheHQZEa"
   },
   "outputs": [],
   "source": [
    "oxts_data_paths = sorted(glob(os.path.join(DATA_PATH, r'oxts/data**/*.txt')))"
   ]
  },
  {
   "cell_type": "code",
   "execution_count": 163,
   "metadata": {
    "id": "u7gm08F4Vozo"
   },
   "outputs": [],
   "source": [
    "def get_oxts(oxt_path):\n",
    "    ''' Obtains the oxt info from a single oxt path '''\n",
    "    with open(oxt_path) as f:\n",
    "        oxts = f.readlines()\n",
    "        \n",
    "    oxts = oxts[0].strip().split(' ')\n",
    "    oxts = np.array(oxts).astype(float)\n",
    "    \n",
    "    return oxts"
   ]
  },
  {
   "cell_type": "code",
   "execution_count": 164,
   "metadata": {
    "id": "RMyfKlB0Q6Bm"
   },
   "outputs": [],
   "source": [
    "oxts_data = list(map(get_oxts, oxts_data_paths))"
   ]
  },
  {
   "cell_type": "markdown",
   "metadata": {
    "id": "K9ZTQRN1Ye3M"
   },
   "source": [
    "## Now let's display where the vehicle has traveled on a real map\n",
    "\n",
    "We will use [folium](https://python-visualization.github.io/folium/modules.html) for this"
   ]
  },
  {
   "cell_type": "code",
   "execution_count": null,
   "metadata": {
    "id": "70WYcBB6bKgb"
   },
   "outputs": [],
   "source": [
    "!pip install folium"
   ]
  },
  {
   "cell_type": "code",
   "execution_count": 186,
   "metadata": {
    "id": "qm5HGbYcbJmc"
   },
   "outputs": [],
   "source": [
    "import folium\n",
    "\n",
    "drive_map = folium.Map(\n",
    "    location = (oxts_data[0][LAT], oxts_data[0][LON]), # starting location\n",
    "    zoom_start=15\n",
    ")"
   ]
  },
  {
   "cell_type": "code",
   "execution_count": 187,
   "metadata": {
    "id": "7280Je-5b4OL"
   },
   "outputs": [],
   "source": [
    "# now add markers for each lat lon position of the vehicle\n",
    "\n",
    "folium.Marker(\n",
    "    location=(oxts_data[0][LAT], oxts_data[0][LON]),\n",
    "    popup='Start',\n",
    "    icon=folium.Icon(color='green')\n",
    ").add_to(drive_map)\n",
    "\n",
    "folium.Marker(\n",
    "    location=(oxts_data[-1][LAT], oxts_data[-1][LON]),\n",
    "    popup='Stop',\n",
    "    icon=folium.Icon(color='red')\n",
    ").add_to(drive_map);\n"
   ]
  },
  {
   "cell_type": "code",
   "execution_count": 188,
   "metadata": {
    "id": "onf0Dt-QdbVK"
   },
   "outputs": [],
   "source": [
    "# add every position update to the map\n",
    "points = []\n",
    "for oxts in oxts_data:\n",
    "    points.append((oxts[LAT], oxts[LON]))\n",
    "\n",
    "folium.PolyLine(points, color='blue', weight=8).add_to(drive_map);"
   ]
  },
  {
   "cell_type": "code",
   "execution_count": 189,
   "metadata": {
    "colab": {
     "base_uri": "https://localhost:8080/",
     "height": 628
    },
    "id": "0rdfeMM-fWc9",
    "outputId": "7c5e3f5f-5f33-41e6-9a27-7f230244b6b5"
   },
   "outputs": [
    {
     "data": {
      "text/html": [
       "<div style=\"width:100%;\"><div style=\"position:relative;width:100%;height:0;padding-bottom:60%;\"><span style=\"color:#565656\">Make this Notebook Trusted to load map: File -> Trust Notebook</span><iframe srcdoc=\"&lt;!DOCTYPE html&gt;\n",
       "&lt;head&gt;    \n",
       "    &lt;meta http-equiv=&quot;content-type&quot; content=&quot;text/html; charset=UTF-8&quot; /&gt;\n",
       "    \n",
       "        &lt;script&gt;\n",
       "            L_NO_TOUCH = false;\n",
       "            L_DISABLE_3D = false;\n",
       "        &lt;/script&gt;\n",
       "    \n",
       "    &lt;style&gt;html, body {width: 100%;height: 100%;margin: 0;padding: 0;}&lt;/style&gt;\n",
       "    &lt;style&gt;#map {position:absolute;top:0;bottom:0;right:0;left:0;}&lt;/style&gt;\n",
       "    &lt;script src=&quot;https://cdn.jsdelivr.net/npm/leaflet@1.6.0/dist/leaflet.js&quot;&gt;&lt;/script&gt;\n",
       "    &lt;script src=&quot;https://code.jquery.com/jquery-1.12.4.min.js&quot;&gt;&lt;/script&gt;\n",
       "    &lt;script src=&quot;https://maxcdn.bootstrapcdn.com/bootstrap/3.2.0/js/bootstrap.min.js&quot;&gt;&lt;/script&gt;\n",
       "    &lt;script src=&quot;https://cdnjs.cloudflare.com/ajax/libs/Leaflet.awesome-markers/2.0.2/leaflet.awesome-markers.js&quot;&gt;&lt;/script&gt;\n",
       "    &lt;link rel=&quot;stylesheet&quot; href=&quot;https://cdn.jsdelivr.net/npm/leaflet@1.6.0/dist/leaflet.css&quot;/&gt;\n",
       "    &lt;link rel=&quot;stylesheet&quot; href=&quot;https://maxcdn.bootstrapcdn.com/bootstrap/3.2.0/css/bootstrap.min.css&quot;/&gt;\n",
       "    &lt;link rel=&quot;stylesheet&quot; href=&quot;https://maxcdn.bootstrapcdn.com/bootstrap/3.2.0/css/bootstrap-theme.min.css&quot;/&gt;\n",
       "    &lt;link rel=&quot;stylesheet&quot; href=&quot;https://maxcdn.bootstrapcdn.com/font-awesome/4.6.3/css/font-awesome.min.css&quot;/&gt;\n",
       "    &lt;link rel=&quot;stylesheet&quot; href=&quot;https://cdnjs.cloudflare.com/ajax/libs/Leaflet.awesome-markers/2.0.2/leaflet.awesome-markers.css&quot;/&gt;\n",
       "    &lt;link rel=&quot;stylesheet&quot; href=&quot;https://cdn.jsdelivr.net/gh/python-visualization/folium/folium/templates/leaflet.awesome.rotate.min.css&quot;/&gt;\n",
       "    \n",
       "            &lt;meta name=&quot;viewport&quot; content=&quot;width=device-width,\n",
       "                initial-scale=1.0, maximum-scale=1.0, user-scalable=no&quot; /&gt;\n",
       "            &lt;style&gt;\n",
       "                #map_9df963c739ceefaff9643e688737618b {\n",
       "                    position: relative;\n",
       "                    width: 100.0%;\n",
       "                    height: 100.0%;\n",
       "                    left: 0.0%;\n",
       "                    top: 0.0%;\n",
       "                }\n",
       "            &lt;/style&gt;\n",
       "        \n",
       "&lt;/head&gt;\n",
       "&lt;body&gt;    \n",
       "    \n",
       "            &lt;div class=&quot;folium-map&quot; id=&quot;map_9df963c739ceefaff9643e688737618b&quot; &gt;&lt;/div&gt;\n",
       "        \n",
       "&lt;/body&gt;\n",
       "&lt;script&gt;    \n",
       "    \n",
       "            var map_9df963c739ceefaff9643e688737618b = L.map(\n",
       "                &quot;map_9df963c739ceefaff9643e688737618b&quot;,\n",
       "                {\n",
       "                    center: [48.950411406393, 8.4872579743462],\n",
       "                    crs: L.CRS.EPSG3857,\n",
       "                    zoom: 15,\n",
       "                    zoomControl: true,\n",
       "                    preferCanvas: false,\n",
       "                }\n",
       "            );\n",
       "\n",
       "            \n",
       "\n",
       "        \n",
       "    \n",
       "            var tile_layer_3b148da037d73afabd99c4b49958a02e = L.tileLayer(\n",
       "                &quot;https://{s}.tile.openstreetmap.org/{z}/{x}/{y}.png&quot;,\n",
       "                {&quot;attribution&quot;: &quot;Data by \\u0026copy; \\u003ca href=\\&quot;http://openstreetmap.org\\&quot;\\u003eOpenStreetMap\\u003c/a\\u003e, under \\u003ca href=\\&quot;http://www.openstreetmap.org/copyright\\&quot;\\u003eODbL\\u003c/a\\u003e.&quot;, &quot;detectRetina&quot;: false, &quot;maxNativeZoom&quot;: 18, &quot;maxZoom&quot;: 18, &quot;minZoom&quot;: 0, &quot;noWrap&quot;: false, &quot;opacity&quot;: 1, &quot;subdomains&quot;: &quot;abc&quot;, &quot;tms&quot;: false}\n",
       "            ).addTo(map_9df963c739ceefaff9643e688737618b);\n",
       "        \n",
       "    \n",
       "            var marker_c8785e288a8ecde81a944b1908575e42 = L.marker(\n",
       "                [48.950411406393, 8.4872579743462],\n",
       "                {}\n",
       "            ).addTo(map_9df963c739ceefaff9643e688737618b);\n",
       "        \n",
       "    \n",
       "            var icon_d21e41ca56b3231042d9693764a46026 = L.AwesomeMarkers.icon(\n",
       "                {&quot;extraClasses&quot;: &quot;fa-rotate-0&quot;, &quot;icon&quot;: &quot;info-sign&quot;, &quot;iconColor&quot;: &quot;white&quot;, &quot;markerColor&quot;: &quot;green&quot;, &quot;prefix&quot;: &quot;glyphicon&quot;}\n",
       "            );\n",
       "            marker_c8785e288a8ecde81a944b1908575e42.setIcon(icon_d21e41ca56b3231042d9693764a46026);\n",
       "        \n",
       "    \n",
       "        var popup_0680c4e34540fe9ad4850503b4b103d6 = L.popup({&quot;maxWidth&quot;: &quot;100%&quot;});\n",
       "\n",
       "        \n",
       "            var html_c182a041159090698bcfc039aca16c25 = $(`&lt;div id=&quot;html_c182a041159090698bcfc039aca16c25&quot; style=&quot;width: 100.0%; height: 100.0%;&quot;&gt;Start&lt;/div&gt;`)[0];\n",
       "            popup_0680c4e34540fe9ad4850503b4b103d6.setContent(html_c182a041159090698bcfc039aca16c25);\n",
       "        \n",
       "\n",
       "        marker_c8785e288a8ecde81a944b1908575e42.bindPopup(popup_0680c4e34540fe9ad4850503b4b103d6)\n",
       "        ;\n",
       "\n",
       "        \n",
       "    \n",
       "    \n",
       "            var marker_27c8b8876e8349fae76236affa07d68c = L.marker(\n",
       "                [48.94538946944, 8.492909778623],\n",
       "                {}\n",
       "            ).addTo(map_9df963c739ceefaff9643e688737618b);\n",
       "        \n",
       "    \n",
       "            var icon_40c5337340965ea8d617419e23a352f5 = L.AwesomeMarkers.icon(\n",
       "                {&quot;extraClasses&quot;: &quot;fa-rotate-0&quot;, &quot;icon&quot;: &quot;info-sign&quot;, &quot;iconColor&quot;: &quot;white&quot;, &quot;markerColor&quot;: &quot;red&quot;, &quot;prefix&quot;: &quot;glyphicon&quot;}\n",
       "            );\n",
       "            marker_27c8b8876e8349fae76236affa07d68c.setIcon(icon_40c5337340965ea8d617419e23a352f5);\n",
       "        \n",
       "    \n",
       "        var popup_104552be7b2124e4ab26ed24f5910b93 = L.popup({&quot;maxWidth&quot;: &quot;100%&quot;});\n",
       "\n",
       "        \n",
       "            var html_aae8bb2a2d0d63e117d9bb9a35dbf925 = $(`&lt;div id=&quot;html_aae8bb2a2d0d63e117d9bb9a35dbf925&quot; style=&quot;width: 100.0%; height: 100.0%;&quot;&gt;Stop&lt;/div&gt;`)[0];\n",
       "            popup_104552be7b2124e4ab26ed24f5910b93.setContent(html_aae8bb2a2d0d63e117d9bb9a35dbf925);\n",
       "        \n",
       "\n",
       "        marker_27c8b8876e8349fae76236affa07d68c.bindPopup(popup_104552be7b2124e4ab26ed24f5910b93)\n",
       "        ;\n",
       "\n",
       "        \n",
       "    \n",
       "    \n",
       "            var poly_line_531db06a8dd7f9eb1a8d987dcf1a0686 = L.polyline(\n",
       "                [[48.950411406393, 8.4872579743462], [48.950408635215, 8.4872609621475], [48.950406138758, 8.4872636656228], [48.950403656749, 8.4872663498459], [48.950400943194, 8.4872692751065], [48.95039849805, 8.4872719135321], [48.950396062931, 8.4872745145234], [48.950393418312, 8.4872773547591], [48.950391037148, 8.4872799099114], [48.950388452255, 8.4872827073798], [48.950386126355, 8.4872852221118], [48.950383820467, 8.4872877062834], [48.950381312337, 8.4872904175258], [48.95037905874, 8.4872928531714], [48.950376828396, 8.4872952602594], [48.950374407601, 8.4872978927277], [48.950372235025, 8.4873002676797], [48.950370086348, 8.4873026152843], [48.950367739033, 8.4873051679787], [48.950365626279, 8.487307458575], [48.950363327816, 8.4873099619548], [48.950361268272, 8.4873122159259], [48.950359228608, 8.4873144460289], [48.950357016077, 8.4873168671445], [48.950355026511, 8.4873190464038], [48.950353058679, 8.4873212071923], [48.950350920013, 8.4873235577984], [48.950348994668, 8.4873256740425], [48.950347095563, 8.4873277720077], [48.950345013908, 8.4873300418737], [48.950343149257, 8.4873320897973], [48.950341119255, 8.4873343184644], [48.950339289379, 8.4873363215642], [48.950337470796, 8.4873383161825], [48.950335449923, 8.4873405206412], [48.950333586013, 8.4873425489616], [48.950331691431, 8.4873446097315], [48.950329566971, 8.4873469263179], [48.950327596687, 8.4873490800534], [48.950325573902, 8.4873512843706], [48.950323288836, 8.4873537728054], [48.950321147625, 8.4873561075831], [48.950318720356, 8.4873587657912], [48.950316437239, 8.4873612858123], [48.95031407464, 8.4873638908674], [48.950311378609, 8.4873668642666], [48.950308833697, 8.4873696773958], [48.95030620032, 8.4873725946435], [48.950303190824, 8.4873759305418], [48.950300361488, 8.4873790663172], [48.950297436455, 8.4873823168033], [48.95029411135, 8.4873860108083], [48.950290983505, 8.4873894682847], [48.950287436174, 8.4873933961402], [48.950284109865, 8.4873970853614], [48.950280686542, 8.4874008843616], [48.950276816776, 8.4874051802169], [48.950273198917, 8.487409203905], [48.950269495123, 8.4874133288266], [48.950265307603, 8.4874179816474], [48.950261406273, 8.4874223145023], [48.950257418257, 8.4874267649129], [48.950252936887, 8.4874317705995], [48.95024876665, 8.4874364031631], [48.950244123008, 8.4874415671538], [48.950239884926, 8.4874462795691], [48.95023565291, 8.4874509786547], [48.950231010514, 8.487456138938], [48.950226808425, 8.4874608186837], [48.950222617433, 8.4874654807357], [48.950218017381, 8.4874705874166], [48.950213849862, 8.4874752192154], [48.9502096967, 8.4874798427414], [48.950205151778, 8.4874849081048], [48.950201033458, 8.4874894904574], [48.950196530517, 8.4874945057053], [48.950192454206, 8.487499037888], [48.950188405009, 8.4875035499731], [48.950183977067, 8.4875084887226], [48.950179975098, 8.4875129458105], [48.95017599519, 8.4875173781074], [48.95017164997, 8.4875222338593], [48.950167712978, 8.487526619399], [48.950163411176, 8.4875314162508], [48.950159521342, 8.4875357592737], [48.950155654369, 8.4875400927829], [48.950151413722, 8.4875448484042], [48.950147576449, 8.4875491628024], [48.95014374195, 8.4875534553228], [48.950139541883, 8.4875581617085], [48.95013573992, 8.4875624291703], [48.950131949703, 8.4875666832168], [48.950127796664, 8.4875713452239], [48.950124032242, 8.4875755625603], [48.950119912058, 8.4875801813486], [48.950116181684, 8.487584366698], [48.950112468084, 8.4875885354873], [48.950108391262, 8.4875930906969], [48.950104715057, 8.4875972261588], [48.95010104518, 8.4876013442281], [48.950097032052, 8.4876058398261], [48.950093399656, 8.4876099003408], [48.950089423204, 8.4876143390634], [48.950085830106, 8.4876183581108], [48.950082264938, 8.4876223658736], [48.950078365969, 8.4876267478744], [48.950074838621, 8.4876307047355], [48.950071330806, 8.4876346430382], [48.950067498812, 8.4876389534562], [48.95006404159, 8.4876428715831], [48.950060604363, 8.4876467602623], [48.950056848704, 8.4876510161352], [48.950053451836, 8.4876548747409], [48.950049738742, 8.4876590989156], [48.950046386589, 8.4876629191681], [48.950043049581, 8.4876667142927], [48.950039404921, 8.4876708690632], [48.950036116774, 8.4876746297099], [48.950032850302, 8.4876783698598], [48.950029292395, 8.4876824520066], [48.950026085571, 8.4876861380629], [48.950022903939, 8.4876897950847], [48.950019433244, 8.4876937937031], [48.950016316138, 8.4876973896815], [48.950012922507, 8.4877013101599], [48.950009878405, 8.4877048317702], [48.950006862106, 8.4877083135572], [48.950003570358, 8.4877121009677], [48.950000611741, 8.4877155154231], [48.9499976831, 8.4877188978454], [48.949994497248, 8.4877225864402], [48.949991622568, 8.4877258992164], [48.949988492045, 8.4877295050727], [48.949985675427, 8.4877327506667], [48.949982891929, 8.4877359657844], [48.949979854809, 8.4877394779452], [48.949977130792, 8.4877426267877], [48.949974434107, 8.4877457495486], [48.949971496721, 8.487749140091], [48.949968848415, 8.487752198209], [48.949966221339, 8.4877552307028], [48.949963367124, 8.4877585292177], [48.9499608024, 8.487761519141], [48.949958004522, 8.4877647716896], [48.949955479928, 8.4877677050879], [48.949952965679, 8.4877706270348], [48.949950204825, 8.4877738494006], [48.949947690868, 8.4877767913285], [48.949945169746, 8.4877797372286], [48.949942395971, 8.4877829796656], [48.949939864718, 8.4877859277887], [48.949937330222, 8.4877888833357], [48.94993452356, 8.4877921439149], [48.949931957553, 8.48779513212], [48.949929116093, 8.4877984427162], [48.949926516876, 8.4878014757901], [48.949923887579, 8.4878045218678], [48.949920959414, 8.487807910155], [48.94991825392, 8.4878110572802], [48.949915504893, 8.4878142599733], [48.949912391533, 8.4878178461107], [48.949909489027, 8.4878211709377], [48.949906209327, 8.487824903355], [48.949903130945, 8.4878283403447], [48.949899960998, 8.4878318443921], [48.949896360538, 8.4878357971199], [48.949892982766, 8.4878394866242], [48.949889494498, 8.4878432415383], [48.949885525879, 8.4878474502173], [48.949881794665, 8.4878513543135], [48.949877947974, 8.4878553352468], [48.949873588537, 8.4878598139545], [48.949869508834, 8.4878639420332], [48.949864886836, 8.4878685532614], [48.949860570295, 8.4878728077507], [48.949856140693, 8.4878771101093], [48.949851153558, 8.4878818929117], [48.949846511702, 8.4878862728238], [48.949841777917, 8.4878906815796], [48.94983647456, 8.4878955724796], [48.949831554683, 8.4879000446466], [48.949826557972, 8.4879045388465], [48.949820958182, 8.4879095018819], [48.949815775189, 8.4879140337733], [48.94980997383, 8.4879190466578], [48.949804622695, 8.4879236469516], [48.949799189905, 8.4879283001097], [48.949793126285, 8.4879335019831], [48.949787524154, 8.4879382975312], [48.94978185107, 8.48794316572], [48.949775530928, 8.4879486032351], [48.94976970978, 8.4879536448354], [48.949763821789, 8.4879587677143], [48.949757271071, 8.4879644968267], [48.949751274523, 8.4879697933607], [48.949744679551, 8.4879756957984], [48.949738695756, 8.4879810857438], [48.949732743684, 8.4879865123744], [48.949726229952, 8.487992513396], [48.949720362502, 8.4879979952277], [48.949714529624, 8.4880035157958], [48.949708153129, 8.4880096234233], [48.949702392287, 8.4880152106613], [48.949696664432, 8.4880208282823], [48.949690417971, 8.4880270384846], [48.949684786433, 8.4880327088151], [48.949678650458, 8.4880389695968], [48.949673112539, 8.4880446708167], [48.949667625295, 8.4880503805583], [48.949661639372, 8.488056682894], [48.949656247025, 8.4880624223815], [48.949650898143, 8.4880681810484], [48.949645058586, 8.488074528421], [48.949639787187, 8.488080306646], [48.949634018657, 8.4880866645649], [48.949628801234, 8.4880924497026], [48.949623595367, 8.4880982618804], [48.949617854405, 8.4881047139654], [48.949612613441, 8.4881106237783], [48.949607343627, 8.4881165662342], [48.949601520967, 8.4881231600458], [48.949596197421, 8.4881292077421], [48.949590839996, 8.4881353170684], [48.949584910081, 8.4881421001782], [48.949579478648, 8.4881483278483], [48.949573466765, 8.4881552408336], [48.949567959208, 8.4881615908237], [48.94956241152, 8.4881680058775], [48.949556252807, 8.4881751435915], [48.949550606378, 8.4881816914213], [48.94954490989, 8.488188304599], [48.949538605713, 8.4881956705636], [48.949532832455, 8.4882024472755], [48.949526435026, 8.4882099891458], [48.949520570401, 8.4882169276482], [48.949514668942, 8.4882239441087], [48.949508126786, 8.4882317608351], [48.949502136948, 8.4882389517228], [48.949496108439, 8.4882462220956], [48.949489426915, 8.4882543125077], [48.949483315731, 8.4882617412377], [48.949477163074, 8.4882692441206], [48.949470359563, 8.4882775710846], [48.949464136245, 8.4882851999005], [48.949457264509, 8.4882936548262], [48.949450993635, 8.4883014025651], [48.949444706242, 8.4883092061274], [48.949437765275, 8.4883178549438], [48.949431428815, 8.4883257765427], [48.949425076235, 8.4883337441065], [48.949418082995, 8.4883425419062], [48.94941172817, 8.4883505658707], [48.949404718359, 8.4883593973501], [48.949398359969, 8.4883674406323], [48.949391991831, 8.4883754816498], [48.949384992776, 8.4883843356681], [48.949378623117, 8.4883923913593], [48.949372259249, 8.4884004333548], [48.949365261635, 8.4884092724346], [48.949358910837, 8.488417307892], [48.94935256347, 8.4884253324703], [48.949345585284, 8.4884341397508], [48.949339254819, 8.4884421462975], [48.949332283284, 8.4884509281175], [48.949325945707, 8.4884589013545], [48.949319611061, 8.4884668630035], [48.949312656702, 8.488475618889], [48.949306347723, 8.4884835600337], [48.949300047183, 8.4884914836838], [48.949293126122, 8.4885001691047], [48.949286855088, 8.488508026904], [48.949280613255, 8.4885158746751], [48.949273787181, 8.4885244972905], [48.949267583939, 8.4885323085296], [48.949260794878, 8.4885408858893], [48.949254652276, 8.4885486735328], [48.949248551775, 8.4885564349843], [48.949241860917, 8.4885649053604], [48.949235853026, 8.488572541742], [48.949229894788, 8.4885800986307], [48.94922340569, 8.4885883592389], [48.949217535553, 8.4885958234282], [48.94921169433, 8.4886032601852], [48.94920530753, 8.4886113960511], [48.949199527271, 8.4886187428198], [48.949193220933, 8.4886267732614], [48.949187535026, 8.4886340243822], [48.949181914228, 8.4886411988374], [48.949175812207, 8.4886489951079], [48.949170348434, 8.4886559771961], [48.949164966699, 8.4886628560598], [48.949159117521, 8.4886703570317], [48.94915382853, 8.4886771380037], [48.949148035891, 8.4886845733928], [48.94914278604, 8.4886912985673], [48.949137553833, 8.4886979911064], [48.949131837698, 8.488705335516], [48.949126677485, 8.4887119680218], [48.949121557702, 8.4887185619234], [48.949115970791, 8.4887257498542], [48.94911095919, 8.4887322357689], [48.949106012754, 8.488738616468], [48.949100660299, 8.4887455043394], [48.949095896599, 8.4887516335784], [48.94909076284, 8.4887582486901], [48.949086193669, 8.4887641315812], [48.949081721956, 8.4887699016586], [48.949076875668, 8.4887761469654], [48.949072508241, 8.4887817677481], [48.94906817681, 8.4887873534918], [48.949063447823, 8.4887934370235], [48.949059183399, 8.4887989174766], [48.949054530502, 8.4888048964105], [48.949050331578, 8.4888103004256], [48.94904616058, 8.4888156707461], [48.94904159957, 8.4888215464474], [48.949037490684, 8.4888268483266], [48.949033409914, 8.488832117836], [48.949028946974, 8.4888378741687], [48.949024908031, 8.488843061375], [48.949020883807, 8.4888482076655], [48.949016494296, 8.4888538380158], [48.949012528121, 8.4888589428229], [48.949008194042, 8.4888645237372], [48.949004266816, 8.4888695558921], [48.949000372049, 8.4888745753451], [48.948996116458, 8.4888800738469], [48.948992257575, 8.4888850343066], [48.948988418106, 8.488889977503], [48.948984212403, 8.4888953847896], [48.948980404177, 8.4889002802906], [48.948976236733, 8.488905648236], [48.948972470311, 8.488910514444], [48.948968710245, 8.4889153454669], [48.948964602901, 8.4889206519376], [48.948960895702, 8.4889254737697], [48.948957207168, 8.4889302750249], [48.948953175043, 8.4889355470915], [48.948949519224, 8.4889403176803], [48.948945885861, 8.4889450826874], [48.948941894626, 8.4889503182811], [48.948938258253, 8.4889551030266], [48.948934267718, 8.4889603888533], [48.948930627966, 8.4889652115221], [48.948927011824, 8.4889700859434], [48.948922997068, 8.4889754471574], [48.948919350499, 8.4889803525046], [48.948915667326, 8.4889852611067], [48.948911601272, 8.4889907227533], [48.948907869277, 8.4889957228895], [48.948904105537, 8.4890007572239], [48.948899930461, 8.4890063538408], [48.948896101683, 8.4890115096008], [48.948891848827, 8.4890172626828], [48.948887917917, 8.4890225335581], [48.94888393868, 8.4890278775618], [48.948879513035, 8.4890338615964], [48.948875437472, 8.4890393978721], [48.948871292988, 8.4890450055397], [48.948866660757, 8.4890512716957], [48.948862380809, 8.4890570603633], [48.948858039905, 8.4890629420922], [48.948853183112, 8.4890695238636], [48.948848678224, 8.4890755822557], [48.948843623312, 8.4890823493881], [48.94883895488, 8.4890885884292], [48.948834207296, 8.48909491554], [48.948828916923, 8.4891020028153], [48.948824005848, 8.4891085052976], [48.948819028892, 8.4891151119334], [48.948813483867, 8.489122495945], [48.948808387548, 8.4891293289878], [48.948803228785, 8.4891362523084], [48.948797456615, 8.4891439245443], [48.948792171809, 8.489150992264], [48.948786318764, 8.4891588379496], [48.948780980174, 8.4891660067158], [48.94877561526, 8.4891731626766], [48.9487697011, 8.4891810455027], [48.948764310038, 8.4891881887065], [48.948758915153, 8.4891953562042], [48.948752962517, 8.489203254077], [48.94874753511, 8.4892104720208], [48.94874208009, 8.4892177360856], [48.948736037398, 8.4892257953222], [48.948730508989, 8.4892331904898], [48.948724369029, 8.4892414102098], [48.948718744134, 8.4892489645729], [48.948713039077, 8.4892565795359], [48.948706717998, 8.489265076408], [48.948700893838, 8.4892728684062], [48.948695020735, 8.4892807724493], [48.948688466005, 8.4892895367917], [48.948682445735, 8.4892976087228], [48.948675752056, 8.4893065848712], [48.948669616246, 8.4893148603491], [48.948663435264, 8.4893232120502], [48.94865660251, 8.4893324765831], [48.948650384414, 8.4893409652293], [48.948644148931, 8.4893494960384], [48.948637283884, 8.4893589449432], [48.948631028074, 8.4893675610463], [48.948624780514, 8.4893762333026], [48.948617893641, 8.4893858273637], [48.948611615192, 8.4893945981292], [48.948604709156, 8.4894043344137], [48.94859841385, 8.4894132240866], [48.94859210856, 8.4894221577405], [48.948585157653, 8.4894320276635], [48.948578828618, 8.4894410513707], [48.948572480476, 8.4894501123738], [48.948565441159, 8.4894600991085], [48.948559016043, 8.4894692177532], [48.948552553665, 8.4894783647347], [48.948545396467, 8.4894884598597], [48.948538852355, 8.4894977063986], [48.948531593907, 8.4895079607448], [48.94852492503, 8.4895173367855], [48.948518209119, 8.4895267422828], [48.948510786075, 8.4895371300031], [48.948504001322, 8.4895466129221], [48.948497151554, 8.4895561441836], [48.94848953279, 8.4895667256521], [48.948482521292, 8.4895764341588], [48.948475432812, 8.4895862509434], [48.948467535028, 8.4895971612014], [48.948460262858, 8.4896072023043], [48.94845217951, 8.4896183609475], [48.948444742032, 8.4896285988272], [48.948437253127, 8.4896389436262], [48.948428940091, 8.4896504710499], [48.948421311995, 8.4896610686262], [48.948413611125, 8.4896717929025], [48.948405053716, 8.4896837194377], [48.948397210556, 8.4896947025108], [48.94838929292, 8.4897057865763], [48.948380504762, 8.4897180929405], [48.948372426212, 8.4897293973105], [48.948363456617, 8.4897419468251], [48.948355233134, 8.4897534934459], [48.948346949465, 8.4897651490253], [48.948337754262, 8.4897781007356], [48.948329326836, 8.4897899936377], [48.948320825905, 8.4898020164243], [48.948311403217, 8.4898153799684], [48.948302773127, 8.489827659058], [48.94829407965, 8.4898400558959], [48.948284452946, 8.4898538277786], [48.948275631113, 8.4898664650361], [48.948266764332, 8.4898792276985], [48.948256950475, 8.4898934143192], [48.948247970961, 8.4899064267962], [48.948238033534, 8.4899208889769], [48.948228948873, 8.4899341434903], [48.948219821815, 8.4899475026492], [48.948209727561, 8.4899623306241], [48.948200505906, 8.4899759276261], [48.948191242067, 8.4899896500859], [48.948181003766, 8.4900048551466], [48.948171646264, 8.4900187853671], [48.948161316167, 8.490034206145], [48.948151878849, 8.4900482809879], [48.948142420491, 8.4900624068328], [48.948131987171, 8.4900780080203], [48.948122475873, 8.4900922567329], [48.948112932899, 8.4901065531933], [48.948102413152, 8.4901223114038], [48.948092856892, 8.4901366390958], [48.948083332547, 8.4901509483968], [48.94807287991, 8.4901666739146], [48.948063397417, 8.4901809606969], [48.948053930616, 8.4901952268166], [48.948043544909, 8.4902109006671], [48.948034118203, 8.4902251414832], [48.948023780793, 8.4902408096417], [48.948014400059, 8.490255040921], [48.948005032216, 8.4902692603064], [48.947994747938, 8.4902849004695], [48.947985411398, 8.4902991019278], [48.947976127549, 8.4903133097673], [48.947965936713, 8.4903289238459], [48.947956693267, 8.4903431102309], [48.94794746629, 8.4903572856794], [48.947937339599, 8.4903728556716], [48.947928154514, 8.4903870019179], [48.947918992266, 8.4904011277136], [48.947908941644, 8.4904166674268], [48.94789982778, 8.4904307834821], [48.947889820447, 8.490446312583], [48.947880738192, 8.4904604113022], [48.947871680509, 8.4904744949002], [48.947861735496, 8.4904899594066], [48.947852729011, 8.4905039996785], [48.947843755085, 8.4905180165986], [48.94783392742, 8.4905333810075], [48.947825041451, 8.4905472750276], [48.947816214082, 8.490561062342], [48.947806592499, 8.4905761059511], [48.947797944359, 8.4905896806862], [48.947788504637, 8.4906045038814], [48.947779960601, 8.4906179381208], [48.947771435615, 8.4906313361852], [48.947762075469, 8.4906460498414], [48.947753598743, 8.4906594081165], [48.94774513444, 8.4906727234795], [48.947735864634, 8.4906873203214], [48.947727478874, 8.4907005617266], [48.947719140335, 8.4907137827865], [48.947710050769, 8.4907282849178], [48.947701836021, 8.4907413910929], [48.947692865942, 8.4907557057217], [48.947684759996, 8.4907686041091], [48.947676724386, 8.4907813928207], [48.947667979984, 8.4907953590908], [48.947660118279, 8.4908079485395], [48.947652343974, 8.4908204312411], [48.94764388552, 8.490834023787], [48.947636230422, 8.490846321432], [48.947628591129, 8.4908585925561], [48.947620224546, 8.4908720734848], [48.947612639864, 8.49088431234], [48.947604342183, 8.4908977478459], [48.947596843143, 8.4909099069131], [48.947589409311, 8.490921980069], [48.947581329488, 8.4909351451337], [48.947574084497, 8.4909469967671], [48.947566918192, 8.4909587305302], [48.947559146988, 8.4909714893738], [48.947552178784, 8.4909829459004], [48.947544607337, 8.4909953959123], [48.947537757479, 8.4910066345547], [48.94753093119, 8.4910178468812], [48.947523448531, 8.4910301580193], [48.947516687483, 8.4910413595177], [48.947509930689, 8.4910524967425], [48.947502494123, 8.4910647087962], [48.947495754352, 8.4910757845785], [48.947489037479, 8.4910868571315], [48.947481666393, 8.4910990180123], [48.947474965842, 8.4911099951652], [48.947468295727, 8.4911209428343], [48.947461018014, 8.4911329513287], [48.947454387063, 8.4911438697983], [48.947447167849, 8.4911558177864], [48.947440632039, 8.4911666398132], [48.947434162634, 8.4911773938569], [48.947427109488, 8.4911891515335], [48.947420787214, 8.4911997283564], [48.947414546478, 8.4912101894012], [48.947407774749, 8.4912215644593], [48.947401692144, 8.4912317966268], [48.947395643182, 8.4912419949947], [48.947389014911, 8.4912531801649], [48.947383008015, 8.4912633462174], [48.947376433188, 8.491274497736], [48.947370473522, 8.4912846211195], [48.94736454162, 8.4912947183438], [48.947358047668, 8.4913057850574], [48.947352174677, 8.4913157933566], [48.947346344129, 8.4913257370707], [48.947339995671, 8.4913365886721], [48.947334283354, 8.4913463382004], [48.947328083998, 8.4913569224122], [48.947322511801, 8.4913664142385], [48.947317009199, 8.4913757872783], [48.947311020712, 8.4913859721623], [48.947305613498, 8.4913951935617], [48.947300215686, 8.4914043870135], [48.947294286238, 8.491414484611], [48.947288895665, 8.491423644722], [48.947283515856, 8.4914327817391], [48.947277618105, 8.4914428048255], [48.94727226663, 8.4914518903307], [48.947266414241, 8.4914618741606], [48.947261098898, 8.4914709552979], [48.947255804471, 8.4914800208657], [48.947249986224, 8.4914899609261], [48.947244711673, 8.4914989888771], [48.947239438472, 8.4915079970745], [48.94723365254, 8.4915179058345], [48.947228417076, 8.4915269199064], [48.947223191864, 8.4915359335716], [48.947217443416, 8.4915458588556], [48.947212238187, 8.491554856128], [48.947206558764, 8.4915648603088], [48.947201430019, 8.4915739349627], [48.947196292497, 8.49158290151], [48.947190584174, 8.4915927836035], [48.947185401089, 8.4916018350222], [48.947180170868, 8.4916108712515], [48.94717438094, 8.4916208368031], [48.947169087313, 8.4916298762323], [48.947163756801, 8.4916389994902], [48.947157849051, 8.4916490904818], [48.947152437781, 8.4916583017839], [48.947146434814, 8.491668495182], [48.94714091279, 8.4916777873657], [48.947135307058, 8.4916871103481], [48.947129034261, 8.4916973710721], [48.947123273428, 8.4917067736189], [48.94711742727, 8.4917162057388], [48.947110937102, 8.491726617152], [48.947104949302, 8.491736134738], [48.947098277864, 8.4917466932458], [48.947092107975, 8.4917564098037], [48.947085831601, 8.4917662128827], [48.947078832945, 8.491777146363], [48.947072359422, 8.4917871914787], [48.947065784235, 8.4917973338761], [48.94705838815, 8.4918085375402], [48.947051565346, 8.4918188364186], [48.947044613038, 8.4918291914092], [48.947036815848, 8.4918406579633], [48.947029580002, 8.4918511024582], [48.947021522666, 8.4918626601084], [48.947014059584, 8.4918732247273], [48.947006472628, 8.4918838184624], [48.946997957438, 8.4918954920839], [48.946990080007, 8.4919061079257], [48.946982068447, 8.4919167723063], [48.946973060153, 8.4919285263015], [48.946964704043, 8.4919391982234], [48.946956190832, 8.4919498441989], [48.946946642079, 8.4919615116708], [48.946937785635, 8.4919720899471], [48.946927867514, 8.4919836823482], [48.946918689018, 8.491994171667], [48.94690936213, 8.4920046103962], [48.946898914384, 8.4920160152903], [48.946889245821, 8.4920263266042], [48.946879439496, 8.4920365896837], [48.946868436677, 8.4920478131174], [48.946858209064, 8.4920579073912], [48.946847795597, 8.4920678703429], [48.946836168832, 8.4920786687398], [48.946825442625, 8.4920883123684], [48.946813508629, 8.4920987304928], [48.94680252458, 8.4921079871985], [48.946791454486, 8.4921170366646], [48.946779146185, 8.4921267453103], [48.946767851952, 8.4921353629265], [48.946756433942, 8.492143737345], [48.946743764343, 8.4921526669553], [48.946732129032, 8.4921605394885], [48.946720410095, 8.492168145882], [48.946707425923, 8.4921762166221], [48.946695541678, 8.4921832735166], [48.946682385325, 8.492190720377], [48.946670352733, 8.492197206834], [48.946658243524, 8.4922034430967], [48.946644844661, 8.4922100055803], [48.946632608288, 8.4922157248664], [48.946620300566, 8.4922211932906], [48.946606684778, 8.4922269431289], [48.946594213947, 8.4922319071554], [48.946581693744, 8.4922366452537], [48.946567863618, 8.4922415765369], [48.946555256123, 8.4922457982972], [48.946541347243, 8.4922501618504], [48.946528665134, 8.4922538932181], [48.946515938682, 8.4922574086799], [48.946501888161, 8.4922609761488], [48.946489090886, 8.4922639316696], [48.946476276041, 8.4922666153632], [48.946462169718, 8.4922693068979], [48.946449325288, 8.4922714615774], [48.946436465216, 8.4922733684665], [48.946422292001, 8.4922752112266], [48.946409420318, 8.4922766946302], [48.946396566563, 8.492277989849], [48.94638245011, 8.4922792412754], [48.94636963564, 8.4922802617022], [48.946356830354, 8.4922811705624], [48.946342751837, 8.4922820705336], [48.946329973945, 8.4922827915475], [48.946317196835, 8.492283427536], [48.946303178988, 8.4922840611231], [48.946290450612, 8.4922846164493], [48.946276450056, 8.4922851974864], [48.946263733203, 8.4922857200689], [48.946251023064, 8.4922862367954], [48.946237060223, 8.4922867919069], [48.946224361389, 8.4922872772578], [48.946211670473, 8.4922877661822], [48.946197719991, 8.4922883310471], [48.946185040541, 8.49228887174], [48.946172378545, 8.4922894681092], [48.946158464673, 8.4922901841203], [48.946145834372, 8.4922909104829], [48.946133216975, 8.4922917234073], [48.946119364095, 8.4922927469309], [48.946106801224, 8.49229381997], [48.946094239872, 8.4922950424155], [48.94608044916, 8.4922965722126], [48.946067929202, 8.4922981293043], [48.946055454113, 8.4922998727693], [48.946041775487, 8.4923019855239], [48.94602936194, 8.4923041225951], [48.946015722329, 8.4923066842498], [48.946003349955, 8.4923092142642], [48.945991007182, 8.492311941229], [48.945977490268, 8.4923151859414], [48.945965237062, 8.4923183287435], [48.945952989544, 8.4923216677765], [48.945939557402, 8.4923257029292], [48.945927401703, 8.4923296835194], [48.945915339415, 8.4923339658979], [48.945902131702, 8.4923389376875], [48.945890167945, 8.4923437255944], [48.945878247377, 8.4923487468771], [48.945865194414, 8.4923545774566], [48.945853419785, 8.4923601836316], [48.945841689509, 8.4923660216845], [48.945828848788, 8.4923726875604], [48.945817235894, 8.4923790294935], [48.945805748694, 8.4923856197689], [48.945793225859, 8.4923931994591], [48.945781911087, 8.4924003386437], [48.945769556053, 8.4924085021721], [48.945758414459, 8.4924162076271], [48.945747408039, 8.4924242447204], [48.945735431737, 8.4924334020832], [48.945724637491, 8.4924419692305], [48.945713972587, 8.4924508185791], [48.945702417362, 8.4924607889531], [48.945692205877, 8.4924701651511], [48.945682207724, 8.4924796607489], [48.945671481809, 8.4924902734486], [48.945661986151, 8.4925000313327], [48.945652739173, 8.4925098889248], [48.945642934758, 8.4925209246974], [48.94563426611, 8.4925309958116], [48.945625042682, 8.4925421548343], [48.945616897276, 8.4925522949811], [48.945609025764, 8.4925624848237], [48.945600634853, 8.4925737012673], [48.945593237781, 8.4925839350441], [48.945586004937, 8.4925941110191], [48.945578241012, 8.4926052393265], [48.945571375674, 8.4926153067479], [48.945564662136, 8.4926252685133], [48.945557479793, 8.4926360444452], [48.945551127784, 8.4926456161228], [48.945544394664, 8.4926559050215], [48.94553849776, 8.4926650556803], [48.945532821528, 8.4926740155333], [48.945526756604, 8.4926835294982], [48.945521443997, 8.4926919393276], [48.945516277279, 8.4927000954174], [48.945510782106, 8.4927089124184], [48.945505880851, 8.4927167432802], [48.945501042976, 8.492724460102], [48.945495785358, 8.4927328729968], [48.945491035496, 8.4927404373082], [48.945485896471, 8.492748731963], [48.945481271819, 8.4927561651574], [48.945476740344, 8.4927634932199], [48.945471822158, 8.492771344332], [48.945467454382, 8.4927783235754], [48.945463202249, 8.4927851819621], [48.945458640244, 8.4927925387248], [48.945454588975, 8.4927990160454], [48.945450640966, 8.4928053086013], [48.945446464988, 8.492812061623], [48.945442784342, 8.4928180141349], [48.945438877503, 8.4928243348644], [48.945435429476, 8.4928298505886], [48.945432123127, 8.4928351866036], [48.945428628317, 8.4928408159605], [48.945425624627, 8.4928457648151], [48.945422724249, 8.4928504637104], [48.945419684213, 8.4928553931506], [48.945417052125, 8.4928596243327], [48.945414351052, 8.4928640946266], [48.945412033853, 8.4928679007017], [48.945409837702, 8.4928714696291], [48.945407590689, 8.4928751353972], [48.945405676747, 8.4928782161048], [48.945403934715, 8.4928811126024], [48.945402159548, 8.4928840329833], [48.945400698783, 8.4928864649655], [48.945399348954, 8.4928886426335], [48.945398027378, 8.4928908343223], [48.945396973011, 8.4928926379683], [48.945395942881, 8.4928944210247], [48.945395096712, 8.4928958274918], [48.945394339242, 8.4928970743975], [48.945393631803, 8.4928982946966], [48.945393073054, 8.4928992892055], [48.945392584076, 8.4929002055287], [48.945392051727, 8.4929011101136], [48.945391598114, 8.4929019053497], [48.9453911684, 8.492902663901], [48.945390744279, 8.4929034876341], [48.945390372449, 8.4929041607516], [48.94539000716, 8.4929048485102], [48.945389684942, 8.492905408258], [48.945389409827, 8.4929059180733], [48.945389177835, 8.492906447527], [48.945388985286, 8.4929068338271], [48.945388852919, 8.4929071646796], [48.945388729601, 8.4929074280661], [48.945388678102, 8.492907664536], [48.945388622482, 8.4929078569414], [48.945388573294, 8.4929080599257], [48.945388528495, 8.492908208949], [48.945388497742, 8.492908350081], [48.945388499538, 8.4929084662109], [48.945388517105, 8.492908546375], [48.945388562187, 8.4929085896038], [48.945388587638, 8.4929086115034], [48.94538861572, 8.4929086765423], [48.945388648475, 8.4929087388838], [48.945388699893, 8.4929087985804], [48.945388727759, 8.4929088400829], [48.945388754146, 8.492908892017], [48.945388779704, 8.4929089323369], [48.945388829103, 8.4929090029742], [48.945388857001, 8.4929090490079], [48.945388880302, 8.4929090892918], [48.945388919756, 8.4929091306393], [48.945388950038, 8.4929091708574], [48.945389001284, 8.4929092379792], [48.945389035019, 8.4929092763008], [48.945389077475, 8.4929093200601], [48.945389108473, 8.4929093510059], [48.945389150338, 8.4929094022501], [48.945389188723, 8.4929094401684], [48.945389231244, 8.49290948959], [48.945389252067, 8.4929095225208], [48.945389277278, 8.4929095496626], [48.945389317571, 8.4929095919791], [48.945389352231, 8.4929096309232], [48.945389388146, 8.4929096741582], [48.945389411029, 8.4929097039836], [48.94538943486, 8.4929097339583], [48.94538946944, 8.492909778623]],\n",
       "                {&quot;bubblingMouseEvents&quot;: true, &quot;color&quot;: &quot;blue&quot;, &quot;dashArray&quot;: null, &quot;dashOffset&quot;: null, &quot;fill&quot;: false, &quot;fillColor&quot;: &quot;blue&quot;, &quot;fillOpacity&quot;: 0.2, &quot;fillRule&quot;: &quot;evenodd&quot;, &quot;lineCap&quot;: &quot;round&quot;, &quot;lineJoin&quot;: &quot;round&quot;, &quot;noClip&quot;: false, &quot;opacity&quot;: 1.0, &quot;smoothFactor&quot;: 1.0, &quot;stroke&quot;: true, &quot;weight&quot;: 8}\n",
       "            ).addTo(map_9df963c739ceefaff9643e688737618b);\n",
       "        \n",
       "&lt;/script&gt;\" style=\"position:absolute;width:100%;height:100%;left:0;top:0;border:none !important;\" allowfullscreen webkitallowfullscreen mozallowfullscreen></iframe></div></div>"
      ],
      "text/plain": [
       "<folium.folium.Map at 0x7f8955fe64d0>"
      ]
     },
     "execution_count": 189,
     "metadata": {},
     "output_type": "execute_result"
    }
   ],
   "source": [
    "drive_map"
   ]
  },
  {
   "cell_type": "markdown",
   "metadata": {
    "id": "49bPjnWIgIP7"
   },
   "source": [
    "Now we have an interactive map that documents the drive."
   ]
  },
  {
   "cell_type": "code",
   "execution_count": null,
   "metadata": {
    "id": "4xHrx29zfe_4"
   },
   "outputs": [],
   "source": []
  }
 ],
 "metadata": {
  "colab": {
   "include_colab_link": true,
   "provenance": []
  },
  "gpuClass": "standard",
  "kernelspec": {
   "display_name": "Python 3 (ipykernel)",
   "language": "python",
   "name": "python3"
  },
  "language_info": {
   "codemirror_mode": {
    "name": "ipython",
    "version": 3
   },
   "file_extension": ".py",
   "mimetype": "text/x-python",
   "name": "python",
   "nbconvert_exporter": "python",
   "pygments_lexer": "ipython3",
   "version": "3.11.5"
  }
 },
 "nbformat": 4,
 "nbformat_minor": 4
}
